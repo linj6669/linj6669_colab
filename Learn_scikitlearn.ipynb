{
  "nbformat": 4,
  "nbformat_minor": 0,
  "metadata": {
    "colab": {
      "name": "Learn-scikitlearn.ipynb",
      "provenance": [],
      "collapsed_sections": [],
      "authorship_tag": "ABX9TyPFOYw7zoxBHfCfYJ1dYlri",
      "include_colab_link": true
    },
    "kernelspec": {
      "name": "python3",
      "display_name": "Python 3"
    }
  },
  "cells": [
    {
      "cell_type": "markdown",
      "metadata": {
        "id": "view-in-github",
        "colab_type": "text"
      },
      "source": [
        "<a href=\"https://colab.research.google.com/github/linj6669/F-backup/blob/master/Learn_scikitlearn.ipynb\" target=\"_parent\"><img src=\"https://colab.research.google.com/assets/colab-badge.svg\" alt=\"Open In Colab\"/></a>"
      ]
    },
    {
      "cell_type": "markdown",
      "metadata": {
        "id": "wmKevqUqS-w7"
      },
      "source": [
        "## Chapter 1 - Data Pre-processing\n",
        "# Review the data shape and quality"
      ]
    },
    {
      "cell_type": "code",
      "metadata": {
        "colab": {
          "base_uri": "https://localhost:8080/"
        },
        "id": "RnrocG9XAwzr",
        "outputId": "2ca9bc52-088d-455a-bab5-3ae42eb8df57"
      },
      "source": [
        "#play with iris dataset\n",
        "import seaborn as sns\n",
        "iris = sns.load_dataset('iris')\n",
        "x=iris.drop('species',axis=1)\n",
        "x.head(10)\n",
        "x.shape\n",
        "y=iris['species']\n",
        "y.head(10)\n",
        "y.shape"
      ],
      "execution_count": null,
      "outputs": [
        {
          "output_type": "execute_result",
          "data": {
            "text/plain": [
              "(150,)"
            ]
          },
          "metadata": {
            "tags": []
          },
          "execution_count": 40
        }
      ]
    },
    {
      "cell_type": "code",
      "metadata": {
        "colab": {
          "base_uri": "https://localhost:8080/",
          "height": 295
        },
        "id": "A9OrU_ytB_PB",
        "outputId": "6b7b92ac-d776-4c23-ff6c-3262e0ab40e2"
      },
      "source": [
        "#Boxplot\n",
        "import seaborn as sns\n",
        "sns.set_theme(style=\"ticks\", palette=\"pastel\")\n",
        "\n",
        "# Load the example tips dataset\n",
        "tips = sns.load_dataset(\"tips\")\n",
        "\n",
        "# Draw a nested boxplot to show bills by day and time\n",
        "sns.boxplot(x=\"day\", y=\"total_bill\",\n",
        "            hue=\"smoker\", palette=[\"m\", \"g\"],\n",
        "            data=tips)\n",
        "sns.despine(offset=10, trim=True)"
      ],
      "execution_count": null,
      "outputs": [
        {
          "output_type": "display_data",
          "data": {
            "image/png": "[encoded data removed]",
            "text/plain": [
              "<Figure size 432x288 with 1 Axes>"
            ]
          },
          "metadata": {
            "tags": []
          }
        }
      ]
    },
    {
      "cell_type": "code",
      "metadata": {
        "colab": {
          "base_uri": "https://localhost:8080/"
        },
        "id": "otZFquXWFHO_",
        "outputId": "be26e7cf-ac2a-44df-f291-55de23c3e99e"
      },
      "source": [
        "import seaborn as sns\n",
        "titanic=sns.load_dataset('titanic')\n",
        "age=titanic['age']\n",
        "age.head(10)"
      ],
      "execution_count": null,
      "outputs": [
        {
          "output_type": "execute_result",
          "data": {
            "text/plain": [
              "0    22.0\n",
              "1    38.0\n",
              "2    26.0\n",
              "3    35.0\n",
              "4    35.0\n",
              "5     NaN\n",
              "6    54.0\n",
              "7     2.0\n",
              "8    27.0\n",
              "9    14.0\n",
              "Name: age, dtype: float64"
            ]
          },
          "metadata": {
            "tags": []
          },
          "execution_count": 42
        }
      ]
    },
    {
      "cell_type": "code",
      "metadata": {
        "colab": {
          "base_uri": "https://localhost:8080/"
        },
        "id": "-sS72UyVFrNW",
        "outputId": "8898c916-b2bf-4ace-e68b-54530d7b09d9"
      },
      "source": [
        "age.shape\n",
        "age.isnull().sum() ##count number of rows that is null (NaN)"
      ],
      "execution_count": null,
      "outputs": [
        {
          "output_type": "execute_result",
          "data": {
            "text/plain": [
              "177"
            ]
          },
          "metadata": {
            "tags": []
          },
          "execution_count": 43
        }
      ]
    },
    {
      "cell_type": "code",
      "metadata": {
        "colab": {
          "base_uri": "https://localhost:8080/"
        },
        "id": "ZfOuYLrUFy7N",
        "outputId": "ad748312-5fbc-43e9-beb0-919b9f8fb575"
      },
      "source": [
        "mean=age.mean()\n",
        "mean_round=round(mean)\n",
        "print(mean_round)\n",
        "age.fillna(mean_round, inplace=True) ###Fill NaN with mean(average)\n",
        "age.head(10)"
      ],
      "execution_count": null,
      "outputs": [
        {
          "output_type": "stream",
          "text": [
            "30\n"
          ],
          "name": "stdout"
        },
        {
          "output_type": "execute_result",
          "data": {
            "text/plain": [
              "0    22.0\n",
              "1    38.0\n",
              "2    26.0\n",
              "3    35.0\n",
              "4    35.0\n",
              "5    30.0\n",
              "6    54.0\n",
              "7     2.0\n",
              "8    27.0\n",
              "9    14.0\n",
              "Name: age, dtype: float64"
            ]
          },
          "metadata": {
            "tags": []
          },
          "execution_count": 44
        }
      ]
    },
    {
      "cell_type": "code",
      "metadata": {
        "colab": {
          "base_uri": "https://localhost:8080/",
          "height": 268
        },
        "id": "CImJMT0dIyA-",
        "outputId": "886c6270-0828-4724-b225-8523ba729460"
      },
      "source": [
        "import matplotlib.pyplot as plt\n",
        "plt.hist(age)\n",
        "plt.show()"
      ],
      "execution_count": null,
      "outputs": [
        {
          "output_type": "display_data",
          "data": {
            "image/png": "[encoded data removed]",
            "text/plain": [
              "<Figure size 432x288 with 1 Axes>"
            ]
          },
          "metadata": {
            "tags": []
          }
        }
      ]
    },
    {
      "cell_type": "code",
      "metadata": {
        "colab": {
          "base_uri": "https://localhost:8080/"
        },
        "id": "IaXuHgK5SG6G",
        "outputId": "ae9263a3-ad1c-4dc5-b851-af91734a3e10"
      },
      "source": [
        "min_val=age.mean() - (3 * age.std())\n",
        "max_val = age.mean() + (3 * age.std())\n",
        "min_val\n",
        "max_val"
      ],
      "execution_count": null,
      "outputs": [
        {
          "output_type": "execute_result",
          "data": {
            "text/plain": [
              "68.76659900835168"
            ]
          },
          "metadata": {
            "tags": []
          },
          "execution_count": 47
        }
      ]
    },
    {
      "cell_type": "code",
      "metadata": {
        "colab": {
          "base_uri": "https://localhost:8080/"
        },
        "id": "1KU8Xh1dSWtu",
        "outputId": "387984d0-327a-47e5-a72d-7ccede98251e"
      },
      "source": [
        "outliers=age[age > max_val]\n",
        "outliers.count()\n",
        "outliers"
      ],
      "execution_count": null,
      "outputs": [
        {
          "output_type": "execute_result",
          "data": {
            "text/plain": [
              "96     71.0\n",
              "116    70.5\n",
              "493    71.0\n",
              "630    80.0\n",
              "672    70.0\n",
              "745    70.0\n",
              "851    74.0\n",
              "Name: age, dtype: float64"
            ]
          },
          "metadata": {
            "tags": []
          },
          "execution_count": 51
        }
      ]
    },
    {
      "cell_type": "code",
      "metadata": {
        "colab": {
          "base_uri": "https://localhost:8080/"
        },
        "id": "ReGBnvKBSycU",
        "outputId": "890bb46d-d65a-446e-d4ab-3a1709bbad89"
      },
      "source": [
        "age=age[age <= max_val]\n",
        "age.shape"
      ],
      "execution_count": null,
      "outputs": [
        {
          "output_type": "execute_result",
          "data": {
            "text/plain": [
              "(884,)"
            ]
          },
          "metadata": {
            "tags": []
          },
          "execution_count": 53
        }
      ]
    },
    {
      "cell_type": "markdown",
      "metadata": {
        "id": "aE4p_oelTMEx"
      },
      "source": [
        "# Feature Engineering over Categorical Feature"
      ]
    },
    {
      "cell_type": "code",
      "metadata": {
        "colab": {
          "base_uri": "https://localhost:8080/"
        },
        "id": "vCDr1sy0TQsi",
        "outputId": "6f468a8f-12b3-4dea-b084-61c9350bdfe5"
      },
      "source": [
        "from sklearn.preprocessing import LabelEncoder\n",
        "import pandas as pd\n",
        "em_town=titanic['embark_town']\n",
        "em_town.head(10)"
      ],
      "execution_count": null,
      "outputs": [
        {
          "output_type": "execute_result",
          "data": {
            "text/plain": [
              "0    Southampton\n",
              "1      Cherbourg\n",
              "2    Southampton\n",
              "3    Southampton\n",
              "4    Southampton\n",
              "5     Queenstown\n",
              "6    Southampton\n",
              "7    Southampton\n",
              "8    Southampton\n",
              "9      Cherbourg\n",
              "Name: embark_town, dtype: object"
            ]
          },
          "metadata": {
            "tags": []
          },
          "execution_count": 54
        }
      ]
    },
    {
      "cell_type": "code",
      "metadata": {
        "colab": {
          "base_uri": "https://localhost:8080/"
        },
        "id": "RG4lFlkGTfA5",
        "outputId": "b430c2d3-0cc9-4612-9d76-b0d5633a48c5"
      },
      "source": [
        "enc=LabelEncoder()\n",
        "new_label=pd.Series(enc.fit_transform(em_town.astype('str'))) ##Encode text to numeric\n",
        "new_label.head(10)"
      ],
      "execution_count": null,
      "outputs": [
        {
          "output_type": "execute_result",
          "data": {
            "text/plain": [
              "0    2\n",
              "1    0\n",
              "2    2\n",
              "3    2\n",
              "4    2\n",
              "5    1\n",
              "6    2\n",
              "7    2\n",
              "8    2\n",
              "9    0\n",
              "dtype: int64"
            ]
          },
          "metadata": {
            "tags": []
          },
          "execution_count": 55
        }
      ]
    },
    {
      "cell_type": "markdown",
      "metadata": {
        "id": "2tIXcDP_U-C2"
      },
      "source": [
        "#Rescale the data: \n",
        "*   Data normalization (0-1)\n",
        "*   Data standarization (transform data into Gaussian distribution - mean = 0, std = 1)"
      ]
    },
    {
      "cell_type": "code",
      "metadata": {
        "colab": {
          "base_uri": "https://localhost:8080/"
        },
        "id": "QVMGOk54UF2n",
        "outputId": "28ccedbc-932f-4f80-922c-e9e2c91c8797"
      },
      "source": [
        "##Normallization\n",
        "age_normalized=(age-age.min())/(age.max()-age.min())\n",
        "age_normalized.head(10)"
      ],
      "execution_count": null,
      "outputs": [
        {
          "output_type": "execute_result",
          "data": {
            "text/plain": [
              "0    0.329064\n",
              "1    0.573041\n",
              "2    0.390058\n",
              "3    0.527295\n",
              "4    0.527295\n",
              "5    0.451052\n",
              "6    0.817017\n",
              "7    0.024093\n",
              "8    0.405306\n",
              "9    0.207075\n",
              "Name: age, dtype: float64"
            ]
          },
          "metadata": {
            "tags": []
          },
          "execution_count": 56
        }
      ]
    },
    {
      "cell_type": "code",
      "metadata": {
        "colab": {
          "base_uri": "https://localhost:8080/"
        },
        "id": "qjb0KemXVNE9",
        "outputId": "46babffc-7d07-466c-8fe8-8bc66333ebae"
      },
      "source": [
        "###Standarization\n",
        "age_standardized=(age-age.mean())/age.std()\n",
        "age_standardized.head(10)"
      ],
      "execution_count": null,
      "outputs": [
        {
          "output_type": "execute_result",
          "data": {
            "text/plain": [
              "0   -0.594548\n",
              "1    0.687225\n",
              "2   -0.274105\n",
              "3    0.446892\n",
              "4    0.446892\n",
              "5    0.046338\n",
              "6    1.968998\n",
              "7   -2.196765\n",
              "8   -0.193994\n",
              "9   -1.235435\n",
              "Name: age, dtype: float64"
            ]
          },
          "metadata": {
            "tags": []
          },
          "execution_count": 58
        }
      ]
    },
    {
      "cell_type": "markdown",
      "metadata": {
        "id": "oJnWozuyWBmk"
      },
      "source": [
        "## Chapter 2: Introduction to Scikit_learn\n",
        "*   Estimator\n",
        "*   Predictor\n",
        "*   Transformer\n"
      ]
    },
    {
      "cell_type": "markdown",
      "metadata": {
        "id": "vvpezDViZnLV"
      },
      "source": [
        "# 1. Unsupervised learning\n",
        "Clustering type: \n",
        "\n",
        "1.   Connectivity-based models\n",
        "2.   Density-based models\n",
        "3. Distribution-based model\n",
        "4. Centroid-based models\n",
        "\n",
        "Exercise dataset: http://archive.ics.uci.edu/ml/datasets/Wholesale+customers"
      ]
    },
    {
      "cell_type": "code",
      "metadata": {
        "id": "RTYvgVhcWFzF",
        "colab": {
          "base_uri": "https://localhost:8080/",
          "height": 268
        },
        "outputId": "f331608f-3631-4e68-9fed-a85ee3e5be6b"
      },
      "source": [
        "import pandas as pd\n",
        "import numpy as np\n",
        "import matplotlib.pyplot as plt\n",
        "np.random.seed(0)\n",
        "\n",
        "from sklearn import datasets\n",
        "n_samples=1500\n",
        "data=datasets.make_circles(n_samples=n_samples,factor=.5, noise=.05)[0]\n",
        "plt.scatter(data[:,0],data[:,1])\n",
        "plt.show()"
      ],
      "execution_count": null,
      "outputs": [
        {
          "output_type": "display_data",
          "data": {
            "image/png": "[encoded data removed]",
            "text/plain": [
              "<Figure size 432x288 with 1 Axes>"
            ]
          },
          "metadata": {
            "tags": []
          }
        }
      ]
    },
    {
      "cell_type": "code",
      "metadata": {
        "id": "mrDcIl0iW-bl",
        "colab": {
          "base_uri": "https://localhost:8080/",
          "height": 268
        },
        "outputId": "4ded4c3e-cb18-4120-e975-2f6b8319d887"
      },
      "source": [
        "plt.hist(data[:,0])\n",
        "plt.show()"
      ],
      "execution_count": null,
      "outputs": [
        {
          "output_type": "display_data",
          "data": {
            "image/png": "[encoded data removed]",
            "text/plain": [
              "<Figure size 432x288 with 1 Axes>"
            ]
          },
          "metadata": {
            "tags": []
          }
        }
      ]
    },
    {
      "cell_type": "markdown",
      "metadata": {
        "id": "eBD1Gqq1eSja"
      },
      "source": [
        "K-means\n",
        "*   Initialization\n",
        "*   Assignment step\n",
        "*   Update step\n",
        "\n",
        "\n",
        "\n",
        "\n",
        "\n"
      ]
    },
    {
      "cell_type": "code",
      "metadata": {
        "colab": {
          "base_uri": "https://localhost:8080/",
          "height": 608
        },
        "id": "XObx_yHseSFC",
        "outputId": "286cc0db-9eb6-4ebc-8a9d-f8ceb79b658c"
      },
      "source": [
        "from sklearn.cluster import KMeans\n",
        "ideal_k=[]\n",
        "for i in range(1,21):\n",
        "  est_kmeans=KMeans(n_clusters=i)\n",
        "  est_kmeans.fit(data)\n",
        "\n",
        "  ideal_k.append([i,est_kmeans.inertia_])\n",
        "\n",
        "ideal_k=np.array(ideal_k)\n",
        "print(ideal_k)\n",
        "plt.plot(ideal_k[:,0],ideal_k[:,1])\n",
        "plt.show()"
      ],
      "execution_count": null,
      "outputs": [
        {
          "output_type": "stream",
          "text": [
            "[[  1.         940.18090321]\n",
            " [  2.         595.64179692]\n",
            " [  3.         361.19577702]\n",
            " [  4.         255.38666529]\n",
            " [  5.         200.61129975]\n",
            " [  6.         169.98216742]\n",
            " [  7.         151.10582343]\n",
            " [  8.         134.92374048]\n",
            " [  9.         117.28206963]\n",
            " [ 10.         102.45051762]\n",
            " [ 11.          86.5764032 ]\n",
            " [ 12.          74.91629722]\n",
            " [ 13.          63.04941468]\n",
            " [ 14.          55.43528258]\n",
            " [ 15.          48.67398558]\n",
            " [ 16.          44.09884755]\n",
            " [ 17.          39.50629978]\n",
            " [ 18.          35.2500282 ]\n",
            " [ 19.          32.34632296]\n",
            " [ 20.          29.51419216]]\n"
          ],
          "name": "stdout"
        },
        {
          "output_type": "display_data",
          "data": {
            "image/png": "[encoded data removed]",
            "text/plain": [
              "<Figure size 432x288 with 1 Axes>"
            ]
          },
          "metadata": {
            "tags": []
          }
        }
      ]
    },
    {
      "cell_type": "code",
      "metadata": {
        "colab": {
          "base_uri": "https://localhost:8080/",
          "height": 268
        },
        "id": "4M6-Jm9HhqG7",
        "outputId": "21bbf3d5-ffcc-44f0-b76b-cdba775d3375"
      },
      "source": [
        "est_kmeans=KMeans(n_clusters=5)\n",
        "est_kmeans.fit(data)\n",
        "pred_kmeans=est_kmeans.predict(data)\n",
        "\n",
        "plt.scatter(data[:,0],data[:,1], c=pred_kmeans) ##c:color by prediction group\n",
        "plt.show()"
      ],
      "execution_count": null,
      "outputs": [
        {
          "output_type": "display_data",
          "data": {
            "image/png": "[encoded data removed]",
            "text/plain": [
              "<Figure size 432x288 with 1 Axes>"
            ]
          },
          "metadata": {
            "tags": []
          }
        }
      ]
    }
  ]
}